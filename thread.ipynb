{
 "cells": [
  {
   "cell_type": "markdown",
   "metadata": {},
   "source": [
    "## Programmation concurente - <span style=\"color:blue;\">CORRECTION</span>"
   ]
  },
  {
   "cell_type": "markdown",
   "metadata": {},
   "source": [
    "**Sources** : Numérique et Sciences Informatiques - <span class=\"codepy\">ellipses</span>"
   ]
  },
  {
   "cell_type": "markdown",
   "metadata": {},
   "source": [
    "**Ressources** : <a href=\"https://webge.fr/dokuwiki/doku.php?id=python:accueilpython\" target=\"_blank\"><input type=\"button\" value=\"Wiki Python sur WebGE\"></a> "
   ]
  },
  {
   "cell_type": "markdown",
   "metadata": {},
   "source": [
    "### Sommaire\n",
    "<ol>\n",
    "    <li>Introduction\n",
    "        <ol>\n",
    "            <li>Les processus</li>\n",
    "            <li>Les threads</li>\n",
    "            <li>Quelle est la différence entre Thread et Processus ?</li>\n",
    "        </ol>\n",
    "    </li>\n",
    "    <li>Premier exemple - Comptage en parallèle</li>\n",
    "    <li>Deuxième exemple - Compteur global partagé</li>\n",
    "        <ol>\n",
    "            <li>Problème de concurrence</li>\n",
    "            <li>Correction du problème de concurence</li>\n",
    "        </ol>\n",
    "    <li>Troisième exemple - Interblocage</li>\n",
    "    <li>Synthèse</li>\n",
    "    <li>Résumé</li>\n",
    "</ol>"
   ]
  },
  {
   "cell_type": "markdown",
   "metadata": {},
   "source": [
    "### 1. Introduction\n",
    "#### 1.a Les processus\n",
    "<em>Grâce à leur système d'exploitation **multitâche**, les ordinateurs exécutent plusieurs programmes de façon **concurrente**. L'exécution d'un programme s'appelle un **processus**. C'est le système d'exploitation, et en particulier l'**ordonnanceur** (une des fonctionnalités du **noyau**), qui détermine quel processus s'exécute à un instant donné. Le fait pour un processus d'être interrompu s'appelle une **commutation de contexte**. Plusieurs processus s'exécutant de façon concurrente peuvent s'**interbloquer** s'ils attendent de pouvoir accéder à un même ensemble de **ressources en accès exclusif**. </em><br>\n",
    "<img src=\"img/se.png\"> <br>\n",
    "#### 1.b Les threads\n",
    "<em>Les **threads** ou processus légers sont des \"sous-processus\", démarrés par un processus et s'exécutant de manière concurrente avec le reste du programme. L'accès à des ressources par plusieurs threads peut être protégé par des **verrous**. Une portion de code comprise entre l'acquisition et le relâchement d'un verrou s'appelle une **section critique**. <br>\n",
    "Le module threading de la bibliothèque standard Python permet de démarrer des threads.</em><br>\n",
    "#### 1.c Quelle est la différence entre Thread et Processus ?\n",
    "<em>Les threads (du même processus) s'exécutent dans un espace mémoire partagé, tandis que les processus s'exécutent dans des espaces mémoire différents.</em>\n",
    "<img src=\"img/threads.png\"> "
   ]
  },
  {
   "cell_type": "markdown",
   "metadata": {},
   "source": [
    "### Objectifs\n",
    "S'initier à la **programmation multithread** en Python et **illustrer les problèmes de concurrence et d'interblocage** dans un cadre plus contrôlé que dans un système d'exploitation."
   ]
  },
  {
   "cell_type": "markdown",
   "metadata": {},
   "source": [
    "### 2. Premier exemple - Comptage en parallèle\n",
    "<em>Dans le code ci-dessous, le programme principal effectue une boucle et appelle quatre fois l'expression <span style=\"font-family:Consolas;font-weight:bold;font-style:normal\">threading.Thread(target=hello, arg=[n])</span>. Cette dernière crée un objet de type **Thread**. La variable <span class=\"code\"><strong>t</strong></span> contient l'objet **Thread** créé. La méthode **start()** lance l'exécution de la fonction en tâche de fond. Cette méthode rend directement la main et le programme principal continue de s'exécuter de façon concurrente au thread démarré. Une fois la boucle exécutée, ce programme comporte cinq *threads* : les quatre démarrés par start() et le programme principal.</em>"
   ]
  },
  {
   "cell_type": "code",
   "execution_count": null,
   "metadata": {},
   "outputs": [],
   "source": [
    "# Programmation concurente - Comptage \n",
    "import threading\n",
    "\n",
    "def hello(num):\n",
    "    for i in range(5):\n",
    "        print(f\"je suis le thread {num} et ma valeur est {i}\")\n",
    "    print(f\"----- Fin du thread {num} -----\")\n",
    "\n",
    "\n",
    "for numth in range(4):\n",
    "    th = threading.Thread(target=hello, args=[numth]) # l'argument de type target est une fonction et l'argument arg un tableau\n",
    "    th.start()                                        # d'arguments passés à la fonction"
   ]
  },
  {
   "cell_type": "markdown",
   "metadata": {},
   "source": [
    "> **Activité 1 <br>\n",
    "> Exécutez** plusieurs fois le code ci-dessus. Que remarquez-vous ?"
   ]
  },
  {
   "cell_type": "markdown",
   "metadata": {},
   "source": [
    "<p style=\"color:blue; font-weight:bold\">CORRECTION 1</p>\n",
    "<ul style=\"color:blue;\">\n",
    "    <li>Les threads alternent leur exécution au gré des commutations de contexte.</li>\n",
    "    <li>Deux exécutions successives donnent des affichages différents.</li>\n",
    "</ul>"
   ]
  },
  {
   "cell_type": "markdown",
   "metadata": {},
   "source": [
    "<table><tr><td style=\"color:red; font-size:14px\"><strong>REMARQUE</strong> : L'ordre dans lequel sont démarrés les threads ne donne aucune indication sur l'ordre dans lequel ils peuvent se terminer.</td></tr></table>"
   ]
  },
  {
   "cell_type": "markdown",
   "metadata": {},
   "source": [
    "> **Activité 2. En vous inspirant du programme ci-dessus, écrivez** un programme qui exécute **quatre** fonctions concurrentes affichant plusieurs fois un message de bienvenue personnalisé. Une fonction produira un maximum de **dix** fois le message.<br>\n",
    "\n",
    "> *Exemple de résultats attendus*<br>\n",
    "Bonjour, je suis le thread 0 et ceci est le message 1<br>\n",
    "... <br>\n",
    "Message de bienvenue du thread 1 qui transmet son message 3<br>\n",
    "... <br>\n"
   ]
  },
  {
   "cell_type": "code",
   "execution_count": null,
   "metadata": {},
   "outputs": [],
   "source": [
    "# Correction 2\n",
    "# Programmation concurente - Messages différents\n",
    "# Correction\n",
    "\n",
    "import threading\n",
    "'''\n",
    "num : numéro du thread\n",
    "msg : message affiché\n",
    "nb : nombre de messages\n",
    "'''\n",
    "def hello(num,msg,nb):\n",
    "    for i in range(nb):\n",
    "        print(f\"{msg} {i}\")\n",
    "    print(f\"----- Fin du thread {num} -----\")\n",
    "    \n",
    "nb=[10,7,5,8]\n",
    "msg=[\"Bonjour, je suis le thread 0 et ceci est le message \",\"Message de bienvenue du thread 1 qui transmet le message \",\n",
    "     \"Salut, le thread 2 vous envoie le message \", \"Hé, le thread 3 aussi envoie son message \"]\n",
    "\n",
    "for num in range(len(nb)):\n",
    "    t = threading.Thread(target=hello, args=[num,msg[num], nb[num]]) \n",
    "    t.start()"
   ]
  },
  {
   "cell_type": "markdown",
   "metadata": {},
   "source": [
    "### 3. Deuxième exemple - Compteur global partagé\n",
    "#### 3.A Problème de concurence\n",
    "<em>Les threads peuvent servir à illustrer les problèmes de concurrence. Le programme ci-dessous définit une variable globale **COMPTEUR**. Comme hello() dans le programme précédent, la fonction **incrc()** ci-dessous s'exécute dans des Threads. Le programme principal déclare un tableau vide <strong>th</strong>. Il démarre ensuite quatre threads et stocke les objets correspondants dans le tableau th, après les avoir démarrés. Pour chacun des threads stockés, la méthode **join()** est appelée. Cette méthode permet d'attendre que le thread auquel on l'applique soit terminé. Si le thread est déjà terminé, la méthode se termine immédiatement.</em>\n"
   ]
  },
  {
   "cell_type": "code",
   "execution_count": null,
   "metadata": {},
   "outputs": [],
   "source": [
    "# Programmation concurente - Compteur partagé\n",
    "# Illustration du problème de concurrence v1\n",
    "import threading\n",
    "\n",
    "COMPTEUR = 0\n",
    "\n",
    "def incrc():\n",
    "    global COMPTEUR\n",
    "    for _ in range(100000):\n",
    "        COMPTEUR+=1\n",
    "        #v = COMPTEUR      # Ces deux lignes pourraient être remplacées par COMPTEUR +=1. \n",
    "        #COMPTEUR = v + 1  # Elles sont utilisée ici pour simplifier les explications\n",
    "\n",
    "th=[] # tableau de threads\n",
    "for n in range(4):\n",
    "    t = threading.Thread(target=incrc, args=[])\n",
    "    t.start()\n",
    "    th.append(t)\n",
    "\n",
    "for t in th:\n",
    "    t.join()\n",
    "\n",
    "print(f\"Valeur finale = {COMPTEUR}\") # Cette ligne est exécutée lorsque tous les threads sont terminés"
   ]
  },
  {
   "cell_type": "markdown",
   "metadata": {},
   "source": [
    "> **Activité 3a. Analyse** du programme <br>\n",
    "> Que fait la fonction incrc ? Quelle devrait être la valeur de COMPTEUR à la fin du programme ? "
   ]
  },
  {
   "cell_type": "markdown",
   "metadata": {},
   "source": [
    "<p style=\"color:blue; font-weight:bold\">CORRECTION 3a</p>\n",
    "<ul style=\"color:blue;\">\n",
    "    <li>La fonction incrc() exécute 100000 itérations d'une boucle qui incrémente la variable COMPTEUR.</li>\n",
    "    <li>A la fin du programme, la variable COMPTEUR devrait être égale à 400000.</li>\n",
    "</ul>"
   ]
  },
  {
   "cell_type": "markdown",
   "metadata": {},
   "source": [
    "> **Activité 3b. Exécutez** plusieurs fois le code ci-dessus. Que remarquez-vous ?"
   ]
  },
  {
   "cell_type": "markdown",
   "metadata": {},
   "source": [
    "<p style=\"color:blue; font-weight:bold\">CORRECTION 3b</p>\n",
    "<p style=\"color:blue;\">La valeur finale de COMPTEUR est égale à 400000</p>"
   ]
  },
  {
   "cell_type": "markdown",
   "metadata": {},
   "source": [
    "<table><tr><td style=\"color:red; font-size:14px\"><strong>REMARQUE</strong> : Contrairement à ce que l'on peut observer sur quelques essais, le programme ci-dessus ne fonctionne pas correctement dans la durée.</td></tr></table>"
   ]
  },
  {
   "cell_type": "markdown",
   "metadata": {},
   "source": [
    "> **Activité 4** <br> \n",
    "> **Modifiez** le programme ci-dessous pour qu'il affiche les résultats lorsqu'ils sont différents de 400000. <br>\n",
    "\n",
    "> *Exemple de résultat attendu*<br>\n",
    "En attente d'une erreur<br>\n",
    "Valeur finale de COMPTEUR erronée = 300000 après 2643 tests<br>\n",
    "Valeur finale de COMPTEUR erronée = 300000 après 10504 tests<br>\n",
    "Valeur finale de COMPTEUR erronée = 393134 après 13748 tests<br>"
   ]
  },
  {
   "cell_type": "code",
   "execution_count": null,
   "metadata": {},
   "outputs": [],
   "source": [
    "# Correction 4\n",
    "# Programmation concurente - Compteur partagé\n",
    "# Illustration du problème de concurrence v2\n",
    "# Correction\n",
    "import threading\n",
    "COMPTEUR=0\n",
    "i=1\n",
    "\n",
    "def incrc():\n",
    "    global COMPTEUR\n",
    "    for c in range(100000):\n",
    "        COMPTEUR += 1\n",
    "\n",
    "\n",
    "print(\"En attente d'une erreur !\")\n",
    "\n",
    "while True:\n",
    "    th=[]\n",
    "    for n in range(4):\n",
    "        t = threading.Thread(target=incrc, args=[])\n",
    "        t.start()\n",
    "        th.append(t)\n",
    "    for t in th:\n",
    "        t.join()\n",
    "    i+=1\n",
    "    if COMPTEUR != 400000:\n",
    "        print(f\"Valeur finale de COMPTEUR = {COMPTEUR} après {i} tests\") \n",
    "    COMPTEUR=0"
   ]
  },
  {
   "cell_type": "markdown",
   "metadata": {},
   "source": [
    "#### 3.B Correction du problème de concurrence dans le programme \"Compteur partagé\"\n",
    "<em>Pour corriger ce problème, il faut garantir l'<strong>accès EXCLUSIF</strong> à la variable <strong>COMPTEUR</strong> entre sa lecture et son écriture. On peut pour cela utiliser un verrou. Un <strong>verrou</strong> est un objet que l'on essaye d'acquérir. Si on est le premier à faire cette demande, on acquiert le verrou. On peut le rendre à tout moment. Si en revanche quelqu'un d'autre tient le verrou alors on est bloqué jusqu'à ce qu'il soit libéré. Des verrous munis de ces deux opérations sont disponibles dans le <strong>module threading</strong> avec le constructeur <strong>Lock()</strong>. Une fois le verrou construit, on peut tenter de l'acquérir avec la méthode <strong>acquire()</strong> et on peut le rendre avec la méthode <strong>release()</strong>.</em>"
   ]
  },
  {
   "cell_type": "markdown",
   "metadata": {},
   "source": [
    "<table><tr><td style=\"color:blue; font-size:14px\"><strong>NOTE</strong> : Une portion de code protégée par un verrou s'appelle une <strong>SECTION CRITIQUE</strong>.</td></tr></table>"
   ]
  },
  {
   "cell_type": "markdown",
   "metadata": {},
   "source": [
    "> **Activité 5**<br>\n",
    ">**Exécutez** le programme ci-dessous. Laissez le programme atteindre 5000 simulations avant de répondre aux questions ci-dessous. En attendant, passez à l'activité suivante.\n",
    "\n",
    "> _Après 5000 simulations_ : <br>\n",
    "a) Que remarquez-vous ?<br>\n",
    "b) Expliquez pourquoi on a corrigé le problème de concurrence entre les threads t1, t2, t3 et t4."
   ]
  },
  {
   "cell_type": "markdown",
   "metadata": {},
   "source": [
    "<p style=\"color:blue; font-weight:bold\">CORRECTION 5</p>\n",
    "<ul style=\"color:blue;\">\n",
    "    <li>a) COMPTEUR = 40000, le résultat est celui attendu.</li>\n",
    "    <li>b) Un thread ne peut pas incrémenter le compteur s'il ne dispose pas du verrou. Un seul thread peut disposer du verrou. Pour qu'un thread se termine, il doit avoir incrémenté le compteur 10000 fois. </li>\n",
    "</ul>"
   ]
  },
  {
   "cell_type": "code",
   "execution_count": null,
   "metadata": {},
   "outputs": [],
   "source": [
    "# Programmation concurente - Compteur partagé\n",
    "# Correction du problème de concurrence avec un verrou\n",
    "\n",
    "import threading\n",
    "\n",
    "COMPTEUR = 0\n",
    "verrou = threading.Lock() # construction du verrou\n",
    "i=1\n",
    "\n",
    "def incrc():\n",
    "    global COMPTEUR\n",
    "    for c in range(100000):\n",
    "        verrou.acquire() # Acquisition du verrou\n",
    "        v = COMPTEUR\n",
    "        COMPTEUR = v + 1\n",
    "        verrou.release() # Relâchement du verrou\n",
    " \n",
    "while True:\n",
    "    th=[]\n",
    "    for n in range(4):\n",
    "        t = threading.Thread(target=incrc, args=[])\n",
    "        t.start()\n",
    "        th.append(t)\n",
    "    for t in th:\n",
    "        t.join()\n",
    "    i+=1\n",
    "    print(f\"Simulation{i}, COMPTEUR = {COMPTEUR}\") \n",
    "    COMPTEUR=0"
   ]
  },
  {
   "cell_type": "markdown",
   "metadata": {},
   "source": [
    "### 4. Troisième exemple - Interblocage\n",
    "L'interblocage se produit lorsque des processus concurrents **s'attendent mutuellement**. L'utilisation de plusieurs verrous rend les **interblocages** possibles.\n",
    "<img src=\"img/interblocage.png\">"
   ]
  },
  {
   "cell_type": "markdown",
   "metadata": {},
   "source": [
    "> **Activité 6a. Analyse** du programme ci-dessous <br>\n",
    "Quel pourrait être le texte affiché par le programme : <br>\n",
    "a) S'il ne se bloquait pas ? <br>\n",
    "b) S'il se bloquait ? "
   ]
  },
  {
   "cell_type": "markdown",
   "metadata": {},
   "source": [
    "<p style=\"color:blue; font-weight:bold\">CORRECTION 6a</p>\n",
    "<ul style=\"color:blue;\">a) Pas d'interblocage\n",
    "    <li>f1 a acquit le verrou 1</li>   \n",
    "    <li>f1 a acquit le verrou 2</li> \n",
    "    <li>f1 a relâché le verrou 2</li> \n",
    "    <li>f1 a relâché le verrou 1</li> \n",
    "    <li>f2 a acquit le verrou 2</li> \n",
    "    <li>f2 a acquit le verrou 1</li>\n",
    "    <li>f2 a relâché le verrou 1</li>\n",
    "    <li>f2 a relâché le verrou 2</li>\n",
    "</ul>\n",
    "<ul style=\"color:blue;\">b) Interblocage\n",
    "    <li>f1 a acquit le verrou 1</li>   \n",
    "    <li>f2 a acquit le verrou 2</li> \n",
    "</ul>"
   ]
  },
  {
   "cell_type": "code",
   "execution_count": null,
   "metadata": {},
   "outputs": [],
   "source": [
    "# Interblocage\n",
    "import threading\n",
    "\n",
    "verrou1 = threading.Lock()\n",
    "verrou2 = threading.Lock()\n",
    "\n",
    "def f1():\n",
    "    verrou1.acquire()\n",
    "    print(\"f1 a acquit le verrou 1\")\n",
    "    i=0; j=0\n",
    "    for _ in range(100):\n",
    "        i+=1\n",
    "        for _ in range (10000):\n",
    "          j+=1  \n",
    "    verrou2.acquire()\n",
    "    print(\"f1 a acquit le verrou 2\")\n",
    "    verrou2.release()\n",
    "    print(\"f1 a relâché le verrou 2\")\n",
    "    verrou1.release()\n",
    "    print(\"f1 a relâché le verrou 1\")\n",
    "    \n",
    "    \n",
    "def f2():\n",
    "    verrou2.acquire()\n",
    "    print(\"f2 a acquit le verrou 2\")\n",
    "    verrou1.acquire()\n",
    "    print(\"f2 a acquit le verrou 1\")\n",
    "    verrou1.release()\n",
    "    print(\"f2 a relâché le verrou 1\")\n",
    "    verrou2.release()\n",
    "    print(\"f2 a relâché le verrou 2\")\n",
    "\n",
    "t1 = threading.Thread(target=f1, args=[])\n",
    "t2 = threading.Thread(target=f2, args=[])\n",
    "t1.start()\n",
    "t2.start()"
   ]
  },
  {
   "cell_type": "markdown",
   "metadata": {},
   "source": [
    "> **Activité 6b** <br>\n",
    ">**Diminuez** la durée des boucles pour que le programme ne se bloque plus. <br>\n",
    "> a) Pour quelle durée n'a-t-on plus de blocage ? <br>\n",
    "> b) Peut-on conserver cette solution ? Pourquoi ?"
   ]
  },
  {
   "cell_type": "markdown",
   "metadata": {},
   "source": [
    "<p style=\"color:blue; font-weight:bold\">CORRECTION 6b</p>\n",
    "<ul style=\"color:blue;\">\n",
    "    <li>Exemple : le blocage ne se produit plus pour 10000 suivi de 1000</li> \n",
    "    <li>Non, car rien ne garantit que le programme s'exécutera de la même façon sur une autre machine.</li>\n",
    "</ul>"
   ]
  },
  {
   "cell_type": "markdown",
   "metadata": {},
   "source": [
    "### 5. SYNTHESE"
   ]
  },
  {
   "cell_type": "markdown",
   "metadata": {},
   "source": [
    "> **Activité 7a.** <br>\n",
    "> On considère un petit système embarqué : un **microcontrôleur** relié à trois **LED A, B, C**. Une LED peut être éteinte ou éclairée et on peut configurer sa couleur. On dispose de trois programmes qui affichent des signaux lumineux en faisant clignoter les LED. Chaque programme possède une LED primaire et une LED secondaire. <br>\n",
    "> - Le programme P1 affiche ses signaux sur A (primaire) et B (secondaire) en vert.<br>\n",
    "> - Le programme P2 affiche ses signaux sur B (primaire) et C (secondaire) en orange.<br>\n",
    "> - Le programme P3 affiche ses signaux sur C (primaire) et A (secondaire) en rouge.<br>\n",
    ">\n",
    "> Comme les LED ne peuvent pas être configurées dans deux couleurs en même temps, le système propose deux primitives **acquerirLED(nom)** et **rendreLED(nom)** qui permettent respectivement d'acquérir et de relâcher une LED. Si une LED est déjà acquise par un prograppe Pi alors acquerirLED() dans un programme Pj bloque Pj (i différent de j).<br>\n",
    "> On suppose que chacun des trois programmes P1, P2, P3 effectue les actions suivantes en boucle :<br>\n",
    "> 1. acquérir la LED primaire\n",
    "> 2. acquérir la LED secondaire\n",
    "> 3. configurer les couleurs\n",
    "> 4. émettre des signaux\n",
    "> 5. rendre la LED secondaire\n",
    "> 6. rendre la LED primaire\n",
    "> recommencer en 1\n",
    ">\n",
    "> **Montrer** qu'il existe un entrelacement des exécutions qui place **P1, P2 et P3 en interblocage**."
   ]
  },
  {
   "cell_type": "markdown",
   "metadata": {},
   "source": [
    "<p style=\"color:blue; font-weight:bold\">CORRECTION 7a</p><br>\n",
    "<span style=\"color:blue;\"> On considère l'enchaînement suivant :</span></br>\n",
    "<ul style=\"color:blue;\">\n",
    "    <li>P1 acquiert A (étape 1) puis est interrompu.</li>\n",
    "    <li>P2 acquiert B (étape 1) puis est interrompu.</li>\n",
    "    <li>P3 acquiert C (étape 1) puis est interrompu.</li>\n",
    "    <li>P1 tente d'acquérir B, sa LED secondaire (étape 2). Il est bloqué car B est tenue par P2</li>\n",
    "    <li>P2 tente d'acquérir C, (étape 2). Il est bloqué car C est tenue par P3</li>\n",
    "    <li>P2 tente d'acquérir A, (étape 2). Il est bloqué car A est tenue par P1</li>\n",
    "</ul>\n",
    "<span style=\"color:blue;\">\n",
    "On obtient la boucle A -> P1 -> B -> P2 -> C -> P3 -> A <br>\n",
    "A ce stade, les trois processus sont bloqués dans une attente circulaire d'une ressource tenue par un autre processus. Ils sont en <strong>interblocage</strong>. \n",
    "</span>"
   ]
  },
  {
   "cell_type": "code",
   "execution_count": null,
   "metadata": {},
   "outputs": [],
   "source": [
    "# Correction 7b\n",
    "# MICROLED - Illustration de l'interblocage dans la synthèse\n",
    "# A télécharger à partir de https://gist.github.com/WebGE/f24c17bb13f10b38eaf21725451e3754\n",
    "import threading\n",
    "\n",
    "VERROU_LED={}\n",
    "VERROU_LED['A']=threading.Lock()\n",
    "VERROU_LED['B']=threading.Lock()\n",
    "VERROU_LED['C']=threading.Lock()\n",
    "\n",
    "def acquerirLED(led):\n",
    "    VERROU_LED[led].acquire()\n",
    "\n",
    "def rendreLED(led):\n",
    "    VERROU_LED[led].release()\n",
    "    \n",
    "def prog(numproc,ledprim,ledsec):\n",
    "    while True:\n",
    "        acquerirLED(ledprim)\n",
    "        print(f\"Acquisition de {ledprim} par le programme {numproc}\")\n",
    "        acquerirLED(ledsec)\n",
    "        print(f\"Acquisition de {ledsec} par le programme {numproc}\")\n",
    "        print(f\"Configuration de {ledprim} {ledsec} et envoi du signal\")\n",
    "        rendreLED(ledsec)\n",
    "        rendreLED(ledprim)\n",
    "\n",
    "p1 = threading.Thread(target=prog, args=[1,'A','B'])\n",
    "p2 = threading.Thread(target=prog, args=[2,'B','C'])\n",
    "p3 = threading.Thread(target=prog, args=[3,'C','A'])\n",
    "\n",
    "p1.start()\n",
    "p2.start()\n",
    "p3.start()"
   ]
  },
  {
   "cell_type": "markdown",
   "metadata": {},
   "source": [
    "### 6. RESUME\n",
    "Les **threads** ou **processus légers** sont des \"sous-processus\" s'exécutant de manière concurente. L'accès à des ressources par plusieurs threads peut être protégé par des **verrous**. Une portion de code comprise entre l'acquisition et le relâchement d'un verrou s'appelle une **section critique**. "
   ]
  },
  {
   "cell_type": "code",
   "execution_count": null,
   "metadata": {},
   "outputs": [],
   "source": []
  }
 ],
 "metadata": {
  "kernelspec": {
   "display_name": "Python 3",
   "language": "python",
   "name": "python3"
  },
  "language_info": {
   "codemirror_mode": {
    "name": "ipython",
    "version": 3
   },
   "file_extension": ".py",
   "mimetype": "text/x-python",
   "name": "python",
   "nbconvert_exporter": "python",
   "pygments_lexer": "ipython3",
   "version": "3.8.8"
  }
 },
 "nbformat": 4,
 "nbformat_minor": 4
}
