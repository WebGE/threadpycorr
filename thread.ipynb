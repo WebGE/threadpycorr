{
 "cells": [
  {
   "cell_type": "markdown",
   "metadata": {},
   "source": [
    "## Programmation concurente - <span style=\"color:blue;\">CORRECTION</span>"
   ]
  },
  {
   "cell_type": "markdown",
   "metadata": {},
   "source": [
    "**Sources** : Numérique et Sciences Informatiques - <span class=\"codepy\">ellipses</span>"
   ]
  },
  {
   "cell_type": "markdown",
   "metadata": {},
   "source": [
    "**Ressources** : <a href=\"https://webge.synology.me/dokuwiki/doku.php?id=python:accueilpython\" target=\"_blank\"><input type=\"button\" value=\"Wiki Python sur WebGE\"></a> "
   ]
  },
  {
   "cell_type": "markdown",
   "metadata": {},
   "source": [
    "### Sommaire\n",
    "+ **Introduction** <br>\n",
    "+ **Exemple 1** - Comptage en parallèle  <br>\n",
    "+ **Exemple 2** - Compteur global partagé (problème de concurrence)  <br>\n",
    "+ **Exemple 3** - Interblocage"
   ]
  },
  {
   "cell_type": "markdown",
   "metadata": {},
   "source": [
    "### Introduction\n",
    "#### Les processus\n",
    "<em>Grace à leur système d'exploitation **multitâche**, les ordinateurs exécutent de façon **concurrente** plusieurs programmes.  L'exécution d'un programme s'appelle un **processus**. C'est le système d'exploitation, et en particulier l'**ordonnanceur** (une des fonctionnalités du **noyau**), qui détermine quel processus s'exécute à un instant donné. Le fait pour un processus d'être interrompu s'appelle une **commutation de contexte**. Plusieurs processus s'exécutant de façon concurrente peuvent s'**interbloquer** s'ils attendent de pouvoir accéder à un même ensemble de **ressources en accès exclusif**. </em><br>\n",
    "<img src=\"img/se.png\"> <br>\n",
    "#### Les threads\n",
    "<em>Les **threads** ou processus légers sont des \"sous-processus\", démarrés par un processus et s'exécutant de manière concurrente avec le reste du programme. L'accès à des ressources par plusieurs threads peut être protégé par des **verrous**. Une portion de code comprise entre l'acquisition et le relâchement d'un verrou s'appelle une **section critique**. <br>\n",
    "Le module threading de la bibliothèque standard Python permet de démarrer des threads.</em><br>\n",
    "<img src=\"img/threads.png\"> "
   ]
  },
  {
   "cell_type": "markdown",
   "metadata": {},
   "source": [
    "### Objectifs\n",
    "S'initier à la **programmation multithread** en Python et **illustrer les problèmes de concurence et d'interblocage** dans un cadre plus contrôlé que dans un système d'exploitation."
   ]
  },
  {
   "cell_type": "markdown",
   "metadata": {},
   "source": [
    "### Exemple 1 - Comptage en parallèle\n",
    "<em>Dans le code ci-dessous, le programme principal effectue une boucle et appelle quatre fois l'expression <span style=\"font-family:Consolas;font-weight:bold;font-style:normal\">threading.Thread(target=hello, arg=[n])</span>. Cette dernière crée un objet de type **Thread**. La variable <span class=\"code\">t</span> contient l'objet **Thread** créé. La méthode .start() lance l'exécution de la fonction en tâche de fond. Cette méthode rend directement la main et le programme principal continue de s'exécuter de façon concurente au thread démarré. Une fois la boucle exécutée, ce programme comporte cinq *threads* : ceux démarrés par .start() et le programme principal.</em>"
   ]
  },
  {
   "cell_type": "code",
   "execution_count": null,
   "metadata": {},
   "outputs": [],
   "source": [
    "# Programmation concurente - Comptage \n",
    "import threading\n",
    "\n",
    "def hello(num):\n",
    "    for i in range(5):\n",
    "        print(f\"je suis le thread {num} et ma valeur est {i}\")\n",
    "    print(f\"----- Fin du thread {num} -----\")\n",
    "\n",
    "\n",
    "for n in range(4):\n",
    "    t = threading.Thread(target=hello, args=[n]) # l'argument de type target est une fonction et l'argument arg un tableau\n",
    "    t.start()                                    # d'arguments passés à la fonction"
   ]
  },
  {
   "cell_type": "markdown",
   "metadata": {},
   "source": [
    "> **Activité 1. Exécutez** plusieurs fois le code ci-dessus. Que remarquez-vous ?"
   ]
  },
  {
   "cell_type": "markdown",
   "metadata": {},
   "source": [
    "<p style=\"color:blue; font-weight:bold\">Correction</p>\n",
    "<ul style=\"color:blue;\">\n",
    "    <li>Les threads alternent leur exécution au gré des commutation de contexte.</li>\n",
    "    <li>Deux exécutions successives donnent des affichages différents.</li>\n",
    "</ul>"
   ]
  },
  {
   "cell_type": "markdown",
   "metadata": {},
   "source": [
    "**Remarque** : L'ordre dans lequel sont démarrés les threads ne donne aucune indication sur l'ordre dans lequel ils peuvent se terminer."
   ]
  },
  {
   "cell_type": "markdown",
   "metadata": {},
   "source": [
    "> **Activité 2. En vous inspirant du programme ci-dessus, écrivez** un programme qui exécute **quatre** fonctions concurrentes affichant plusieurs fois un message de bienvenu personnalisé. Une fonction produira un maximum de **dix** fois le message.<br>\n",
    "\n",
    "> *Exemple de résultats attendus*<br>\n",
    "Bonjour, je suis le thread 0 et ceci est le message 1<br>\n",
    "... <br>\n",
    "Message de bienvenu du thread 1 qui transmet son message 3<br>\n",
    "... <br>\n"
   ]
  },
  {
   "cell_type": "code",
   "execution_count": null,
   "metadata": {},
   "outputs": [],
   "source": [
    "# Programmation concurente - Messages différents\n",
    "# Correction\n",
    "\n",
    "import threading\n",
    "'''\n",
    "num : numéro du thread\n",
    "msg : message affiché\n",
    "nb : nombre de message\n",
    "'''\n",
    "def hello(num,msg,nb):\n",
    "    for i in range(nb):\n",
    "        print(f\"{msg} {i}\")\n",
    "    print(f\"----- Fin du thread {num} -----\")\n",
    "    \n",
    "nb=[10,7,5,8]\n",
    "msg=[\"Bonjour, je suis le thread 0 et ceci est le message \",\"Message de bienvenu du thread 1 qui transmet le message \",\n",
    "     \"Salut, le thread 2 vous envoie le message \", \"Hé, le thread 3 aussi envoie son message \"]\n",
    "\n",
    "for num in range(len(nb)):\n",
    "    t = threading.Thread(target=hello, args=[num,msg[num], nb[num]]) \n",
    "    t.start()"
   ]
  },
  {
   "cell_type": "markdown",
   "metadata": {},
   "source": [
    "### Exemple 2 - Compteur global partagé (problème de concurrence)\n",
    "Les threads peuvent servir à illustrer les problèmes de concurrence. Le programme ci-dessous définit une variable globale COMPTEUR. Comme 'hello' dans le programme précédent, la fonction incrc s'exécute dans des Threads. Le programme principal déclare un tableau vide th. Il démarre ensuite quatre threads et stocke les objets correspondants dans le tableau th, après les avoir démarrés. Pour chacun des threads stockés, la méthode join est appelée. Cette méthode permet d'attendre que le thread auquel on l'applique soit terminé. Si le thread est déja terminé, la méthode se termine immédiatement.\n"
   ]
  },
  {
   "cell_type": "markdown",
   "metadata": {},
   "source": [
    "> **Activité 3. Analyse** du programme <br>\n",
    "> Que fait la fonction incrc ? Quel devrait être la valeur de COMPTEUR à la fin du programme ? "
   ]
  },
  {
   "cell_type": "markdown",
   "metadata": {},
   "source": [
    "<p style=\"color:blue; font-weight:bold\">Correction</p>\n",
    "<ul style=\"color:blue;\">\n",
    "    <li>La fonction incrc exécute 100000 itérations d'une boucle qui incrémente la variable COMPTEUR.</li>\n",
    "    <li>A la fin du programme, la variable COMPTEUR devrait être égale à 400000.</li>\n",
    "</ul>"
   ]
  },
  {
   "cell_type": "markdown",
   "metadata": {},
   "source": [
    "> **Activité 4. Exécutez** plusieurs fois le code ci-dessous. Que remarquez-vous ?"
   ]
  },
  {
   "cell_type": "code",
   "execution_count": null,
   "metadata": {},
   "outputs": [],
   "source": [
    "# Programmation concurente - Compteur partagé\n",
    "# Illustration du problème de concurrence\n",
    "import threading\n",
    "\n",
    "COMPTEUR = 0\n",
    "\n",
    "def incrc():\n",
    "    global COMPTEUR\n",
    "    for _ in range(100000):\n",
    "        v = COMPTEUR      # ces deux ligne pourraient être remplacées par COMPTEUR +=1. \n",
    "        COMPTEUR = v + 1  # Elle sont utilisée ici pour simplifiées les explications\n",
    "\n",
    "th=[]\n",
    "for n in range(4):\n",
    "    t = threading.Thread(target=incrc, args=[])\n",
    "    t.start()\n",
    "    th.append(t)\n",
    "\n",
    "for t in th:\n",
    "    t.join()\n",
    "print(f\"Valeur finale = {COMPTEUR}\") # Cette ligne est exécutée lorsque tous les threads sont terminés"
   ]
  },
  {
   "cell_type": "markdown",
   "metadata": {},
   "source": [
    "**REMARQUE** : Contrairement à ce que l'on peut observer sur quelques essais, le programme ci-dessus ne fonctionne pas dans la durée."
   ]
  },
  {
   "cell_type": "markdown",
   "metadata": {},
   "source": [
    "> **Activité 5. Modifiez** le programme ci-dessous pour qu'il affiche les résultats faux. <br>\n",
    "\n",
    "> *Exemple de résultat attendu*<br>\n",
    "En attente d'une erreur<br>\n",
    "Valeur finale de COMPTEUR erronée = 300000 après 2643 tests<br>\n",
    "Valeur finale de COMPTEUR erronée = 300000 après 10504 tests<br>\n",
    "Valeur finale de COMPTEUR erronée = 393134 après 13748 tests<br>"
   ]
  },
  {
   "cell_type": "code",
   "execution_count": null,
   "metadata": {},
   "outputs": [],
   "source": [
    "# Programmation concurente - Compteur partagé\n",
    "# Illustration du problème de concurrence\n",
    "# Correction\n",
    "import threading\n",
    "COMPTEUR=0\n",
    "i=1\n",
    "\n",
    "def incrc():\n",
    "    global COMPTEUR\n",
    "    for c in range(100000):\n",
    "        v = COMPTEUR\n",
    "        COMPTEUR = v + 1\n",
    "\n",
    "print(\"En attente d'une erreur !\")\n",
    "\n",
    "while True:\n",
    "    th=[]\n",
    "    for n in range(4):\n",
    "        t = threading.Thread(target=incrc, args=[])\n",
    "        t.start()\n",
    "        th.append(t)\n",
    "    for t in th:\n",
    "        t.join()\n",
    "    i+=1\n",
    "    if COMPTEUR != 400000:\n",
    "    print(f\"Valeur finale de COMPTEUR = {COMPTEUR} après {i} tests\") \n",
    "    COMPTEUR=0"
   ]
  },
  {
   "cell_type": "markdown",
   "metadata": {},
   "source": [
    "### Correction du problème de concurrence dans le programme \"Compteur partagé\"\n",
    "Pour corriger ce problème, il faut garantir l'**accès EXCLUSIF** à la variable compteur entre sa lecture et son écriture. On peut pour cela utiliser un verrou. Un **verrou** est un objet que l'on essaye d'acquérir. Si on est le premier à faire cette demande, on acquiert le verrou. On peut le rendre à tout moment. Si en revanche quelqu'un d'autre tient le verrou alors on est bloqué jusqu'à ce qu'il soit libéré. Des verrous munis de ces deux opérations sont disponibles dans le **module threading** avec le constructeur **Lock()**. Une fois le verrou construit, on peut tenter de l'acquérir avec la méthode **acquire()** et on peut le rendre avec la méthode **release()**. "
   ]
  },
  {
   "cell_type": "markdown",
   "metadata": {},
   "source": [
    "**Note** : Une portion de code protégée par un verrou s'appelle une **SECTION CRITIQUE**."
   ]
  },
  {
   "cell_type": "markdown",
   "metadata": {},
   "source": [
    "> **Activité 5. Exécutez** le programme ci-dessous. Laissez le programme atteindre 5000 simulation avant de répondre au questions ci-dessous. En attendant passez à la suite.\n",
    "\n",
    "> _Après 5000 simulations_ : <br>\n",
    "a) Que remarquez-vous ?<br>\n",
    "b) Expliquez pourquoi on a corriger le problème de concurence entre les treads t1, t2, t3 et t4."
   ]
  },
  {
   "cell_type": "markdown",
   "metadata": {},
   "source": [
    "<p style=\"color:blue; font-weight:bold\">Correction</p>\n",
    "<ul style=\"color:blue;\">\n",
    "    <li>a) COMPTEUR = 40000, le résultat est celui attendu.</li>\n",
    "    <li>b) Un thread ne peut pas incrémenté le compteur s'il ne dispose pas du verrou. Un seul thread peut disposer du verrou. Pour qu'un thread se termine, il doit avoir incrémenté le compteur 10000 fois. </li>\n",
    "</ul>"
   ]
  },
  {
   "cell_type": "code",
   "execution_count": null,
   "metadata": {},
   "outputs": [],
   "source": [
    "# Programmation concurente - Compteur partagé\n",
    "# Correction du problème de concurrence avec un verrou\n",
    "\n",
    "import threading\n",
    "\n",
    "COMPTEUR = 0\n",
    "verrou = threading.Lock() # construction du verrou\n",
    "i=1\n",
    "\n",
    "def incrc():\n",
    "    global COMPTEUR\n",
    "    for c in range(100000):\n",
    "        verrou.acquire() # Acquisition du verrou\n",
    "        v = COMPTEUR\n",
    "        COMPTEUR = v + 1\n",
    "        verrou.release() # Relâchement du verrou\n",
    " \n",
    "while True:\n",
    "    th=[]\n",
    "    for n in range(4):\n",
    "        t = threading.Thread(target=incrc, args=[])\n",
    "        t.start()\n",
    "        th.append(t)\n",
    "    for t in th:\n",
    "        t.join()\n",
    "    i+=1\n",
    "    print(f\"Simulation{i}, COMPTEUR = {COMPTEUR}\") \n",
    "    COMPTEUR=0"
   ]
  },
  {
   "cell_type": "markdown",
   "metadata": {},
   "source": [
    "### Exemple 3 - Interblocage\n",
    "L'utilisation de plusieurs verrous rend les **interblocages** possibles."
   ]
  },
  {
   "cell_type": "markdown",
   "metadata": {},
   "source": [
    "> **Activité 6. Analyse** du programme ci-dessous <br>\n",
    "Quel pourrait être le texte affiché par le programme : <br>\n",
    "a) S'il ne se bloquait pas ? <br>\n",
    "b) S'il se bloquait ? "
   ]
  },
  {
   "cell_type": "markdown",
   "metadata": {},
   "source": [
    "<p style=\"color:blue; font-weight:bold\">Correction</p>\n",
    "<ul style=\"color:blue;\">a) Pas d'interblocage\n",
    "    <li>f1 a acquit le verrou 1</li>   \n",
    "    <li>f1 a acquit le verrou 2</li> \n",
    "    <li>f1 a relâché le verrou 2</li> \n",
    "    <li>f1 a relâché le verrou 1</li> \n",
    "    <li>f2 a acquit le verrou 2</li> \n",
    "    <li>f2 a acquit le verrou 1</li>\n",
    "    <li>f2 a relâché le verrou 1</li>\n",
    "    <li>f2 a relâché le verrou 2</li>\n",
    "</ul>\n",
    "<ul style=\"color:blue;\">a) Interblocage\n",
    "    <li>f1 a acquit le verrou 1</li>   \n",
    "    <li>f1 a acquit le verrou 2</li> \n",
    "</ul>"
   ]
  },
  {
   "cell_type": "code",
   "execution_count": null,
   "metadata": {},
   "outputs": [],
   "source": [
    "# Interblocage\n",
    "import threading\n",
    "\n",
    "verrou1 = threading.Lock()\n",
    "verrou2 = threading.Lock()\n",
    "\n",
    "def f1():\n",
    "    verrou1.acquire()\n",
    "    print(\"f1 a acquit le verrou 1\")\n",
    "    i=0; j=0\n",
    "    for _ in range(10000):\n",
    "        i+=1\n",
    "        for _ in range (1000):\n",
    "          j+=1  \n",
    "    verrou2.acquire()\n",
    "    print(\"f1 a acquit le verrou 2\")\n",
    "    verrou2.release()\n",
    "    print(\"f1 a relâché le verrou 2\")\n",
    "    verrou1.release()\n",
    "    print(\"f1 a relâché le verrou 1\")\n",
    "    \n",
    "    \n",
    "def f2():\n",
    "    verrou2.acquire()\n",
    "    print(\"f2 a acquit le verrou 2\")\n",
    "    verrou1.acquire()\n",
    "    print(\"f2 a acquit le verrou 1\")\n",
    "    verrou1.release()\n",
    "    print(\"f2 a relâché le verrou 1\")\n",
    "    verrou2.release()\n",
    "    print(\"f2 a relâché le verrou 2\")\n",
    "\n",
    "t1 = threading.Thread(target=f1, args=[])\n",
    "t2 = threading.Thread(target=f2, args=[])\n",
    "t1.start()\n",
    "t2.start()"
   ]
  },
  {
   "cell_type": "markdown",
   "metadata": {},
   "source": [
    "> **Activité 7. Diminuez** la durée des boucles pour que le programme ne se bloque plus. Peut-on conserver cette solution ?"
   ]
  },
  {
   "cell_type": "markdown",
   "metadata": {},
   "source": [
    "<p style=\"color:blue; font-weight:bold\">Correction</p>\n",
    "<ul style=\"color:blue;\">\n",
    "    <li></li> \n",
    "</ul>"
   ]
  },
  {
   "cell_type": "markdown",
   "metadata": {},
   "source": [
    "**A retenir**"
   ]
  }
 ],
 "metadata": {
  "kernelspec": {
   "display_name": "Python 3",
   "language": "python",
   "name": "python3"
  },
  "language_info": {
   "codemirror_mode": {
    "name": "ipython",
    "version": 3
   },
   "file_extension": ".py",
   "mimetype": "text/x-python",
   "name": "python",
   "nbconvert_exporter": "python",
   "pygments_lexer": "ipython3",
   "version": "3.8.5"
  }
 },
 "nbformat": 4,
 "nbformat_minor": 4
}
